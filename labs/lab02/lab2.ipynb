{
  "cells": [
    {
      "cell_type": "markdown",
      "metadata": {
        "id": "DPdVzOatPtx5"
      },
      "source": [
        "[![Open In Colab](https://colab.research.google.com/assets/colab-badge.svg)](https://colab.research.google.com/github/ACS-IC-labs/IC-labs/blob/main/labs/lab02/lab2.ipynb)"
      ]
    },
    {
      "cell_type": "markdown",
      "metadata": {
        "id": "pxdu2wDOmNjC"
      },
      "source": [
        "# Laboratorul 02 - Shift and Vigenère Ciphers"
      ]
    },
    {
      "cell_type": "markdown",
      "metadata": {
        "id": "Yy7OYCrxCT5s"
      },
      "source": [
        "Prezentarea PowerPoint pentru acest laborator poate fi găsită [aici](https://drive.google.com/file/d/1rbiXVtSESTDc2rAyaO9oNRNLE3NRw54a/view?usp=sharing).\n",
        "\n",
        "Va trebui să completați cu soluțiile voastre acolo unde apare TODO."
      ]
    },
    {
      "cell_type": "markdown",
      "metadata": {
        "id": "u5NnlrmvnGFL"
      },
      "source": [
        "## Funcții utile"
      ]
    },
    {
      "cell_type": "code",
      "execution_count": null,
      "metadata": {
        "id": "eYljU0bVJL1d"
      },
      "outputs": [],
      "source": [
        "import base64\n",
        "from typing import Generator\n",
        "\n",
        "\n",
        "def _pad(data: str, size: int) -> str:\n",
        "    reminder = len(data) % size\n",
        "    if reminder != 0:\n",
        "        data = \"0\" * (size - reminder) + data\n",
        "    return data\n",
        "\n",
        "\n",
        "def _chunks(data: str, chunk_size: int) -> Generator[str, None, None]:\n",
        "    data = _pad(data, chunk_size)\n",
        "    for i in range(0, len(data), chunk_size):\n",
        "        yield data[i : i + chunk_size]\n",
        "\n",
        "\n",
        "def _hex(data: int) -> str:\n",
        "    return format(data, \"02x\")\n",
        "\n",
        "\n",
        "# Conversion functions\n",
        "\n",
        "\n",
        "def hex_2_bin(data: str) -> str:\n",
        "    \"\"\"Converts a hexadecimal string to a binary representation.\n",
        "\n",
        "    Args:\n",
        "        data (str): The hexadecimal string to be converted. It should have an\n",
        "            even number of characters and only contain valid hexadecimal digits\n",
        "            (0-9, A-F, a-f).\n",
        "\n",
        "    Returns:\n",
        "        str: The binary representation of the hexadecimal string, where each\n",
        "            pair of hexadecimal digits is encoded as an 8-bit binary number.\n",
        "\n",
        "    Examples:\n",
        "        >>> hex_2_bin(\"01abcd\")\n",
        "        '000000011010101111001101'\n",
        "        >>> hex_2_bin(\"0a\")\n",
        "        '00001010'\n",
        "    \"\"\"\n",
        "    return \"\".join(f\"{int(x, 16):08b}\" for x in _chunks(data, 2))\n",
        "\n",
        "\n",
        "def bin_2_hex(data: str) -> str:\n",
        "    \"\"\"Converts a binary string to a hexadecimal representation.\n",
        "\n",
        "    Args:\n",
        "        data (str): The binary string to be converted. It should have a multiple\n",
        "            of 8 characters and only contain valid binary digits (0 or 1).\n",
        "\n",
        "    Returns:\n",
        "        str: The hexadecimal representation of the binary string, where each\n",
        "            group of 8 binary digits is encoded as a pair of hexadecimal digits.\n",
        "\n",
        "    Examples:\n",
        "        >>> bin_2_hex(\"000000011010101111001101\")\n",
        "        '01abcd'\n",
        "        >>> bin_2_hex(\"00001010\")\n",
        "        '0a'\n",
        "    \"\"\"\n",
        "    return \"\".join(f\"{int(b, 2):02x}\" for b in _chunks(data, 8))\n",
        "\n",
        "\n",
        "def str_2_bin(data: str) -> str:\n",
        "    \"\"\"Converts a string to a binary representation.\n",
        "\n",
        "    Args:\n",
        "        data (str): The string to be converted.\n",
        "\n",
        "    Returns:\n",
        "        str: The binary representation of the string, where each character is\n",
        "            encoded as an 8-bit binary number.\n",
        "\n",
        "    Examples:\n",
        "        >>> str_2_bin(\"Hello\")\n",
        "        '0100100001100101011011000110110001101111'\n",
        "        >>> str_2_bin(\"IC\")\n",
        "        '0100100101000011'\n",
        "    \"\"\"\n",
        "    return \"\".join(f\"{ord(c):08b}\" for c in data)\n",
        "\n",
        "\n",
        "def bin_2_str(data: str) -> str:\n",
        "    \"\"\"Converts a binary string to a string.\n",
        "\n",
        "    Args:\n",
        "        data (str): The binary string to be converted. It should have a multiple\n",
        "            of 8 characters and only contain valid binary digits (0 or 1).\n",
        "\n",
        "    Returns:\n",
        "        str: The string representation of the binary string, where each group\n",
        "            of 8 binary digits is decoded as a character.\n",
        "\n",
        "    Examples:\n",
        "        >>> bin_2_str(\"0100100001100101011011000110110001101111\")\n",
        "        'Hello'\n",
        "        >>> bin_2_str(\"0100100101000011\")\n",
        "        'IC'\n",
        "    \"\"\"\n",
        "    return \"\".join(chr(int(b, 2)) for b in _chunks(data, 8))\n",
        "\n",
        "\n",
        "def str_2_hex(data: str) -> str:\n",
        "    \"\"\"Converts a string to a hexadecimal representation.\n",
        "\n",
        "    Args:\n",
        "        data (str): The string to be converted.\n",
        "\n",
        "    Returns:\n",
        "        str: The hexadecimal representation of the string, where each character\n",
        "            is encoded as a pair of hexadecimal digits.\n",
        "\n",
        "    Examples:\n",
        "        >>> str_2_hex(\"Hello\")\n",
        "        '48656c6c6f'\n",
        "        >>> str_2_hex(\"IC\")\n",
        "        '4943'\n",
        "    \"\"\"\n",
        "    return \"\".join(f\"{ord(c):02x}\" for c in data)\n",
        "\n",
        "\n",
        "def hex_2_str(data: str) -> str:\n",
        "    \"\"\"Converts a hexadecimal string to a string.\n",
        "\n",
        "    Args:\n",
        "        data (str): The hexadecimal string to be converted. It should have an\n",
        "            even number of characters and only contain valid hexadecimal digits\n",
        "            (0-9, A-F, a-f).\n",
        "\n",
        "    Returns:\n",
        "        str: The string representation of the hexadecimal string, where each\n",
        "            pair of hexadecimal digits is decoded as a character.\n",
        "\n",
        "    Examples:\n",
        "        >>> hex_2_str(\"48656c6c6f\")\n",
        "        'Hello'\n",
        "        >>> hex_2_str(\"4943\")\n",
        "        'IC'\n",
        "    \"\"\"\n",
        "    return \"\".join(chr(int(x, 16)) for x in _chunks(data, 2))\n",
        "\n",
        "\n",
        "# XOR functions\n",
        "\n",
        "\n",
        "def strxor(operand_1: str, operand_2: str) -> str:\n",
        "    \"\"\"Performs a bitwise exclusive OR (XOR) operation on two strings.\n",
        "\n",
        "    Args:\n",
        "        operand_1 (str): The first string to be XORed.\n",
        "        operand_2 (str): The second string to be XORed.\n",
        "\n",
        "    Returns:\n",
        "        str: The result of the XOR operation on the two strings, where each\n",
        "            character is encoded as an 8-bit binary number. The result has\n",
        "            the same length as the shorter input string.\n",
        "\n",
        "    Examples:\n",
        "        >>> strxor(\"Hello\", \"IC\")\n",
        "        '\\\\x01&'\n",
        "        >>> strxor(\"secret\", \"key\")\n",
        "        '\\\\x18\\\\x00\\\\x1a'\n",
        "    \"\"\"\n",
        "    return \"\".join(chr(ord(x) ^ ord(y)) for (x, y) in zip(operand_1, operand_2))\n",
        "\n",
        "\n",
        "def bitxor(operand_1: str, operand_2: str) -> str:\n",
        "    \"\"\"Performs a bitwise exclusive OR (XOR) operation on two bit-strings.\n",
        "\n",
        "    Args:\n",
        "        operand_1 (str): The first bit-string to be XORed. It should only\n",
        "            contain valid binary digits (0 or 1).\n",
        "        operand_2 (str): The second bit-string to be XORed. It should only\n",
        "            contain valid binary digits (0 or 1).\n",
        "\n",
        "    Returns:\n",
        "        str: The result of the XOR operation on the two bit-strings, where each\n",
        "            bit is encoded as a character. The result has the same length as\n",
        "            the shorter input bit-string.\n",
        "\n",
        "    Examples:\n",
        "        >>> bitxor(\"01001000\", \"01000010\")\n",
        "        '00001010'\n",
        "        >>> bitxor(\"10101010\", \"00110011\")\n",
        "        '10011001'\n",
        "    \"\"\"\n",
        "    return \"\".join(str(int(x) ^ int(y)) for (x, y) in zip(operand_1, operand_2))\n",
        "\n",
        "\n",
        "def hexxor(operand_1: str, operand_2: str) -> str:\n",
        "    \"\"\"Performs a bitwise exclusive OR (XOR) operation on two hexadecimal\n",
        "    strings.\n",
        "\n",
        "    Args:\n",
        "        operand_1 (str): The first hexadecimal string to be XORed. It should\n",
        "            have an even number of characters and only contain valid hexadecimal\n",
        "            digits (0-9, A-F, a-f).\n",
        "        operand_2 (str): The second hexadecimal string to be XORed. It should\n",
        "            have an even number of characters and only contain valid\n",
        "            digits (0-9, A-F, a-f).\n",
        "\n",
        "    Returns:\n",
        "        str: The result of the XOR operation on the two hexadecimal strings,\n",
        "            where each pair of hexadecimal digits is encoded as a pair of\n",
        "            hexadecimal digits. The result has the same length as the shorter\n",
        "            input hexadecimal string.\n",
        "\n",
        "    Examples:\n",
        "        >>> hexxor(\"48656c6c6f\", \"42696e67\")\n",
        "        '0a0c020b'\n",
        "        >>> hexxor(\"736563726574\", \"6b6579\")\n",
        "        '18001a'\n",
        "    \"\"\"\n",
        "    return \"\".join(\n",
        "        _hex(int(x, 16) ^ int(y, 16))\n",
        "        for (x, y) in zip(_chunks(operand_1, 2), _chunks(operand_2, 2))\n",
        "    )\n",
        "\n",
        "\n",
        "# Python3 'bytes' functions\n",
        "\n",
        "\n",
        "def bytes_to_string(bytes_data: bytearray | bytes) -> str:\n",
        "    \"\"\"Converts a byte array or a byte string to a string.\n",
        "\n",
        "    Args:\n",
        "        bytes_data (bytearray | bytes): The byte array or the byte string to be\n",
        "            converted. It should be encoded in Latin-1 format.\n",
        "\n",
        "    Returns:\n",
        "        str: The string representation of the byte array or the byte string,\n",
        "            decoded using Latin-1 encoding.\n",
        "\n",
        "    Examples:\n",
        "        >>> bytes_to_string(b'Hello')\n",
        "        'Hello'\n",
        "        >>> bytes_to_string(bytearray(b'IC'))\n",
        "        'IC'\n",
        "    \"\"\"\n",
        "    return bytes_data.decode(encoding=\"raw_unicode_escape\")\n",
        "\n",
        "\n",
        "def string_to_bytes(string_data: str) -> bytes:\n",
        "    \"\"\"Converts a string to a byte string.\n",
        "\n",
        "    Args:\n",
        "        string_data (str): The string to be converted.\n",
        "\n",
        "    Returns:\n",
        "        bytes: The byte string representation of the string, encoded using\n",
        "        Latin-1 encoding.\n",
        "\n",
        "    Examples:\n",
        "        >>> string_to_bytes('Hello')\n",
        "        b'Hello'\n",
        "        >>> string_to_bytes('IC')\n",
        "        b'IC'\n",
        "    \"\"\"\n",
        "    return string_data.encode(encoding=\"raw_unicode_escape\")\n",
        "\n",
        "\n",
        "# Base64 functions\n",
        "\n",
        "\n",
        "def b64encode(data: str) -> str:\n",
        "    \"\"\"Encodes a string to base64.\n",
        "\n",
        "    Parameters:\n",
        "        data (str): The string to be encoded.\n",
        "\n",
        "    Returns:\n",
        "        str: The base64 encoded string, using Latin-1 encoding.\n",
        "\n",
        "    Examples:\n",
        "        >>> b64encode(\"Hello\")\n",
        "        'SGVsbG8='\n",
        "        >>> b64encode(\"IC\")\n",
        "        'SUM='\n",
        "    \"\"\"\n",
        "    return bytes_to_string(base64.b64encode(string_to_bytes(data)))\n",
        "\n",
        "\n",
        "def b64decode(data: str) -> str:\n",
        "    \"\"\"Decodes a base64 encoded string.\n",
        "\n",
        "    Args:\n",
        "        data (str): The base64 encoded string to be decoded. It should only\n",
        "            contain valid base64 characters (A-Z, a-z, 0-9, +, /, =).\n",
        "\n",
        "    Returns:\n",
        "        str: The decoded string, using Latin-1 encoding.\n",
        "\n",
        "    Examples:\n",
        "        >>> b64decode(\"SGVsbG8=\")\n",
        "        'Hello'\n",
        "        >>> b64decode(\"SUM=\")\n",
        "        'IC'\n",
        "    \"\"\"\n",
        "    return bytes_to_string(base64.b64decode(string_to_bytes(data)))"
      ]
    },
    {
      "cell_type": "code",
      "execution_count": null,
      "metadata": {
        "id": "3pJNIz4bnE21"
      },
      "outputs": [],
      "source": [
        "ALPHABET = \"ABCDEFGHIJKLMNOPQRSTUVWXYZ\"\n",
        "\n",
        "\n",
        "def caesar_enc(letter: str, k: int = 3) -> str:\n",
        "    \"\"\"Encrypts a single uppercase letter using the Caesar cipher with a\n",
        "    given shift.\n",
        "\n",
        "    Args:\n",
        "        letter (str): A string of length 1 representing an uppercase letter.\n",
        "        k (int): An integer representing the shift amount.\n",
        "            Optional; defaults to 3.\n",
        "\n",
        "    Returns:\n",
        "        str: A string of length 1 representing the encrypted letter.\n",
        "\n",
        "    Raises:\n",
        "        ValueError: If the letter is not a valid uppercase letter.\n",
        "\n",
        "    Example:\n",
        "        >>> caesar_enc(\"A\", 3)\n",
        "        'D'\n",
        "        >>> caesar_enc(\"Z\", -3)\n",
        "        'W'\n",
        "        >>> caesar_enc(\"a\", 3)\n",
        "        [...]\n",
        "        ValueError: Invalid letter\n",
        "    \"\"\"\n",
        "    if not \"A\" <= letter <= \"Z\":\n",
        "        raise ValueError(\"Invalid letter\")\n",
        "    return ALPHABET[(ord(letter) - ord(\"A\") + k) % len(ALPHABET)]\n",
        "\n",
        "\n",
        "def caesar_enc_string(plaintext: str, k: int = 3) -> str:\n",
        "    \"\"\"Encrypts a string of uppercase letters using the Caesar cipher with a\n",
        "    given shift.\n",
        "\n",
        "    Args:\n",
        "        plaintext (str): A string of uppercase letters.\n",
        "        k (int): An integer representing the shift amount.\n",
        "            Optional; defaults to 3.\n",
        "\n",
        "    Returns:\n",
        "        str: A string of uppercase letters representing the encrypted text.\n",
        "\n",
        "    Raises:\n",
        "        ValueError: If the plaintext contains any invalid characters.\n",
        "\n",
        "    Example:\n",
        "        >>> caesar_enc_string(\"HELLO\", 3)\n",
        "        'KHOOR'\n",
        "        >>> caesar_enc_string(\"WORLD\", -3)\n",
        "        'TLOIA'\n",
        "        >>> caesar_enc_string(\"HELLO WORLD\", 3)\n",
        "        [...]\n",
        "        ValueError: Invalid letter\n",
        "    \"\"\"\n",
        "    ciphertext = \"\"\n",
        "    for letter in plaintext:\n",
        "        ciphertext += caesar_enc(letter, k)\n",
        "    return ciphertext\n",
        "\n",
        "\n",
        "def caesar_dec(letter: str, k: int = 3) -> str:\n",
        "    \"\"\"Decrypts a single uppercase letter using the inverse Caesar cipher with\n",
        "    a given shift.\n",
        "\n",
        "    Args:\n",
        "        letter (str): A string of length 1 representing an uppercase letter.\n",
        "        k (int): An integer representing the shift amount.\n",
        "            Optional; defaults to 3.\n",
        "\n",
        "    Returns:\n",
        "        str: A string of length 1 representing the decrypted letter.\n",
        "\n",
        "    Raises:\n",
        "        ValueError: If the letter is not a valid uppercase letter.\n",
        "\n",
        "    Example:\n",
        "        >>> caesar_dec(\"D\", 3)\n",
        "        'A'\n",
        "        >>> caesar_dec(\"C\", -3)\n",
        "        'F'\n",
        "        >>> caesar_dec(\"d\", 3)\n",
        "        [...]\n",
        "        ValueError: Invalid letter\n",
        "    \"\"\"\n",
        "    if not \"A\" <= letter <= \"Z\":\n",
        "        raise ValueError(\"Invalid letter\")\n",
        "    return ALPHABET[(ord(letter) - ord(\"A\") - k) % len(ALPHABET)]\n",
        "\n",
        "\n",
        "def caesar_dec_string(ciphertext: str, k: int = 3) -> str:\n",
        "    \"\"\"Decrypts a string of uppercase letters using the inverse Caesar cipher\n",
        "    with a given shift.\n",
        "\n",
        "    Args:\n",
        "        ciphertext (str): A string of uppercase letters.\n",
        "        k (int): An integer representing the shift amount.\n",
        "            Optional; defaults to 3.\n",
        "\n",
        "    Returns:\n",
        "        str: A string of uppercase letters representing the decrypted text.\n",
        "\n",
        "    Raises:\n",
        "        ValueError: If the ciphertext contains any invalid characters.\n",
        "\n",
        "    Example:\n",
        "        >>> caesar_dec_string(\"KHOOR\", 3)\n",
        "        'HELLO'\n",
        "        >>> caesar_dec_string(\"TLOIA\", -3)\n",
        "        'WORLD'\n",
        "        >>> caesar_dec_string(\"KHOOR WORLD\", 3)\n",
        "        [...]\n",
        "        ValueError: Invalid letter\n",
        "    \"\"\"\n",
        "    plaintext = \"\"\n",
        "    for letter in ciphertext:\n",
        "        plaintext += caesar_dec(letter, k)\n",
        "    return plaintext"
      ]
    },
    {
      "cell_type": "markdown",
      "metadata": {
        "id": "jXWj1xZumNf6"
      },
      "source": [
        "## Exercițiul 1 (2p)"
      ]
    },
    {
      "cell_type": "markdown",
      "metadata": {
        "id": "BGVMLkhLmS7z"
      },
      "source": [
        "Alice îi trimite lui Bob următoarele ciphertexte:\n"
      ]
    },
    {
      "cell_type": "code",
      "execution_count": null,
      "metadata": {
        "id": "AXHNSChvmoJO"
      },
      "outputs": [],
      "source": [
        "%%writefile msg_ex1.txt\n",
        "LDPWKHORUGBRXUJRG\n",
        "XNTRGZKKGZUDMNNSGDQFNCRADENQDLD\n",
        "DTZXMFQQSTYRFPJDTZWXJQKFSDLWFAJSNRFLJ\n",
        "SIOMBUFFHINNUEYNBYHUGYIZNBYFILXSIOLAIXCHPUCH\n",
        "ERZRZOREGURFNOONGUQNLGBXRRCVGUBYL\n",
        "CJIJPMTJPMAVOCZMVIYTJPMHJOCZM\n",
        "DTZXMFQQSTYRZWIJW\n",
        "ZPVTIBMMOPUDPNNJUBEVMUFSZ\n",
        "FVBZOHSSUVAZALHS\n",
        "KAGETMXXZAFSUHQRMXEQFQEFUYAZKMSMUZEFKAGDZQUSTNAGD\n",
        "MCIGVOZZBCHRSGWFSOBMHVWBUHVOHPSZCBUGHCMCIFBSWUVPCIF"
      ]
    },
    {
      "cell_type": "markdown",
      "metadata": {
        "id": "FYJYZ0c-modm"
      },
      "source": [
        "Charlie reușește să intercepteze ciphertextele și își dă seama că cifrul folosit pentru criptare este Shift Cipher (fiecare mesaj posibil criptat cu o cheie diferită). Puteți decripta mesajele?\n",
        "\n",
        "Charlie știe de asemenea ca plaintextul este în limba engleză și constă în litere ale alfabetului englez (A-Z), numai majusculă și fără semne de punctuație.\n",
        "\n",
        "> **Hint:** Ce au în comun toate textele în clar? Răspunsul este YOU.\n",
        "\n",
        "Se pare că al cincilea string este diferit. Puteți să găsiți o modalitate de a-l decripta?"
      ]
    },
    {
      "cell_type": "code",
      "execution_count": null,
      "metadata": {
        "id": "apSWq4kjnfo5"
      },
      "outputs": [],
      "source": [
        "def decrypt(ciphertext: str, searched_text: str) -> str:\n",
        "    # TODO decrypt the ciphertext\n",
        "\n",
        "    key = 0\n",
        "    dif1 = ord(searched_text[0]) - ord(searched_text[1])\n",
        "    dif2 = ord(searched_text[0]) - ord(searched_text[2])\n",
        "\n",
        "    for i in range(len(ciphertext) - 2):\n",
        "    \tif (\n",
        "\t\t\t(ord(ciphertext[i]) - ord(ciphertext[i + 1]) == dif1\n",
        "\t\t\tor ord(ciphertext[i + 1]) - ord(ciphertext[i]) == 26 - dif1)\n",
        "\t\t\tand (ord(ciphertext[i]) - ord(ciphertext[i + 2]) == dif2\n",
        "\t\t\tor ord(ciphertext[i + 2]) - ord(ciphertext[i]) == 26 - dif2)\n",
        "\t\t):\n",
        "\n",
        "            key = ord(ciphertext[i]) - ord(searched_text[0])\n",
        "            break\n",
        "\n",
        "    if key == 0:\n",
        "        return \"\"\n",
        "\n",
        "    return caesar_dec_string(ciphertext, key)"
      ]
    },
    {
      "cell_type": "code",
      "execution_count": null,
      "metadata": {
        "id": "hsPuY8CUiQzl"
      },
      "outputs": [],
      "source": [
        "ciphertexts = []\n",
        "with open(\"msg_ex1.txt\", mode=\"r\", encoding=\"utf-8\") as f:\n",
        "    for line in f:\n",
        "        ciphertexts.append(line[:-1])\n",
        "print(ciphertexts)\n",
        "\n",
        "for c in ciphertexts:\n",
        "\n",
        "    if c == ciphertexts[4]:\n",
        "        print(decrypt(c, \"THE\"))\n",
        "    else:\n",
        "        print(decrypt(c, \"YOU\"))"
      ]
    },
    {
      "cell_type": "markdown",
      "metadata": {
        "id": "3BIyoBgKnh5P"
      },
      "source": [
        "## Exercițiul 2 (4p)"
      ]
    },
    {
      "cell_type": "markdown",
      "metadata": {
        "id": "YNzHXVOcpEB0"
      },
      "source": [
        "Alice îi trimite lui Bob un alt ciphertext, dar mai lung de această dată…"
      ]
    },
    {
      "cell_type": "code",
      "execution_count": null,
      "metadata": {
        "id": "sqIuG4UxpF2O"
      },
      "outputs": [],
      "source": [
        "%%writefile msg_ex2.txt\n",
        "YEQCCQMNCKRQLTBKRTKPTEAQKRBVKNBKRQFVSBCQEVXKRQSBJVMEIBVWCKTBMQKRNBKRQPTIVXCNBBQWCBVWCNKKQKRNBKRQCQTKVXKRQCFVWBXSEYSKRNCMQENJRKNCNBKRQETPVXKRQEVWMTBMNBRNCETPMVKRRQLQMNKTKQMTITBMBNJRKTBMRQCRTEEYQENAQTKWQQHETBKQMYIKRQWNOQWCVXPTKQWKRTKYWNBJQKRXVWKRRNCXWSNKNBRNCCQTCVBRNCEQTXTECVCRTEEBVKPNKRQWTBMPRTKCVQOQWRQMVQKRCRTEEHWVCHQWKRQSBJVMEITWQBVKCVYSKTWQENAQKRQFRTXXPRNFRKRQPNBMMWNOQKRTPTIKRQWQXVWQKRQSBJVMEICRTEEBVKCKTBMNBKRQDSMJLQBKBVWCNBBQWCNBKRQFVBJWQJTKNVBVXKRQWNJRKQVSCXVWKRQEVWMABVPQKRKRQPTIVXKRQWNJRKQVSCYSKKRQPTIVXKRQSBJVMEICRTEEHQWNCRPRIMVKRQRQTKRQBWTJQTBMKRQHQVHEQNLTJNBQTOTNBKRNBJKRQANBJCVXKRQQTWKRCQKKRQLCQEOQCTBMKRQWSEQWCKTAQFVSBCQEKVJQKRQWTJTNBCKKRQEVWMTBMTJTNBCKRNCTBVNBKQMCTINBJEQKSCYWQTAKRQNWYTBMCTCSBMQWTBMFTCKTPTIKRQNWFVWMCXWVLSCRQKRTKCNKKQKRNBKRQRQTOQBCCRTEEETSJRKRQEVWMCRTEERTOQKRQLNBMQWNCNVBKRQBCRTEERQCHQTASBKVKRQLNBRNCPWTKRTBMOQZKRQLNBRNCCVWQMNCHEQTCSWQIQKRTOQNCQKLIANBJSHVBLIRVEIRNEEVXUNVBNPNEEMQFETWQKRQMQFWQQKRQEVWMRTKRCTNMSBKVLQKRVSTWKLICVBKRNCMTIRTOQNYQJVKKQBKRQQTCAVXLQTBMNCRTEEJNOQKRQQKRQRQTKRQBXVWKRNBQNBRQWNKTBFQTBMKRQSKKQWLVCKHTWKCVXKRQQTWKRXVWKRIHVCCQCCNVBKRVSCRTEKYWQTAKRQLPNKRTWVMVXNWVBKRVSCRTEKMTCRKRQLNBHNQFQCENAQTHVKKQWTCOQCCQEYQPNCQBVPKRQWQXVWQVIQANBJCYQNBCKWSFKQMIQDSMJQCVXKRQQTWKRCQWOQKRQEVWMPNKRXQTWTBMWQDVNFQPNKRKWQLYENBJANCCKRQCVBEQCKRQYQTBJWITBMIQHQWNCRXWVLKRQPTIPRQBRNCPWTKRNCANBMEQMYSKTENKKEQYEQCCQMTWQTEEKRQIKRTKHSKKRQNWKWSCKNBRNLEVWMRVPTWQKRQINBFWQTCQMKRTKKWVSYEQLQSLTBITWQKRQIKRTKWNCQSHTJTNBCKLQLTBIKRQWQYQPRNFRCTIVXLICVSEKRQWQNCBVRQEHXVWRNLNBJVMCQETRYSKKRVSVEVWMTWKTCRNQEMXVWLQLIJEVWITBMKRQENXKQWSHVXLNBQRQTMNFWNQMSBKVKRQEVWMPNKRLIOVNFQTBMRQRQTWMLQVSKVXRNCRVEIRNEECQETRNETNMLQMVPBTBMCEQHKNTPTAQMXVWKRQEVWMCSCKTNBQMLQNPNEEBVKYQTXWTNMVXKQBKRVSCTBMCVXHQVHEQKRTKRTOQCQKKRQLCQEOQCTJTNBCKLQWVSBMTYVSKTWNCQVEVWMCTOQLQVLIJVMXVWKRVSRTCKCLNKKQBTEELNBQQBQLNQCSHVBKRQFRQQAYVBQKRVSRTCKYWVAQBKRQKQQKRVXKRQSBJVMEICTEOTKNVBYQEVBJQKRSBKVKRQEVWMKRIYEQCCNBJNCSHVBKRIHQVHEQCQETRRQTWLQPRQBNFTEEVJVMVXLIWNJRKQVSCBQCCKRVSRTCKQBETWJQMLQPRQBNPTCNBMNCKWQCCRTOQLQWFISHVBLQTBMRQTWLIHWTIQWVIQCVBCVXLQBRVPEVBJPNEEIQKSWBLIJEVWINBKVCRTLQRVPEVBJPNEEIQEVOQOTBNKITBMCQQATXKQWEQTCNBJCQETRYSKABVPKRTKKRQEVWMRTKRCQKTHTWKRNLKRTKNCJVMEIXVWRNLCQEXKRQEVWMPNEERQTWPRQBNFTEESBKVRNLCKTBMNBTPQTBMCNBBVKFVLLSBQPNKRIVSWVPBRQTWKSHVBIVSWYQMTBMYQCKNEECQETRVXXQWKRQCTFWNXNFQCVXWNJRKQVSCBQCCTBMHSKIVSWKWSCKNBKRQEVWMKRQWQYQLTBIKRTKCTIPRVPNEECRQPSCTBIJVVMEVWMENXKKRVSSHKRQENJRKVXKRIFVSBKQBTBFQSHVBSCKRVSRTCKHSKJETMBQCCNBLIRQTWKLVWQKRTBNBKRQKNLQKRTKKRQNWFVWBTBMKRQNWPNBQNBFWQTCQMNPNEEYVKRETILQMVPBNBHQTFQTBMCEQQHXVWKRVSEVWMVBEILTAQCKLQMPQEENBCTXQKIJNOQQTWKVLIPVWMCVEVWMFVBCNMQWLILQMNKTKNVBRQTWAQBSBKVKRQOVNFQVXLIFWILIANBJTBMLIJVMXVWSBKVKRQQPNEENHWTILIOVNFQCRTEKKRVSRQTWNBKRQLVWBNBJVEVWMNBKRQLVWBNBJPNEENMNWQFKLIHWTIQWSBKVKRQQTBMPNEEEVVASHXVWKRVSTWKBVKTJVMKRTKRTKRHEQTCSWQNBPNFAQMBQCCBQNKRQWCRTEEQONEMPQEEPNKRKRQQKRQXVVENCRCRTEEBVKCKTBMNBKRICNJRKKRVSRTKQCKTEEPVWAQWCVXNBNGSNKIKRVSCRTEKMQCKWVIKRQLKRTKCHQTAEQTCNBJKRQEVWMPNEETYRVWKRQYEVVMITBMMQFQNKXSELTBYSKTCXVWLQNPNEEFVLQNBKVKRIRVSCQNBKRQLSEKNKSMQVXKRILQWFITBMNBKRIXQTWPNEENPVWCRNHKVPTWMKRIRVEIKQLHEQEQTMLQVEVWMNBKRIWNJRKQVSCBQCCYQFTSCQVXLNBQQBQLNQCLTAQKRIPTICKWTNJRKYQXVWQLIXTFQXVWKRQWQNCBVXTNKRXSEBQCCNBKRQNWLVSKRKRQNWNBPTWMHTWKNCOQWIPNFAQMBQCCKRQNWKRWVTKNCTBVHQBCQHSEFRWQKRQIXETKKQWPNKRKRQNWKVBJSQMQCKWVIKRVSKRQLVJVMEQKKRQLXTEEYIKRQNWVPBFVSBCQECFTCKKRQLVSKNBKRQLSEKNKSMQVXKRQNWKWTBCJWQCCNVBCXVWKRQIRTOQWQYQEEQMTJTNBCKKRQQYSKEQKTEEKRVCQKRTKHSKKRQNWKWSCKNBKRQQWQDVNFQEQKKRQLQOQWCRVSKXVWDVIYQFTSCQKRVSMQXQBMQCKKRQLEQKKRQLTECVKRTKEVOQKRIBTLQYQDVIXSENBKRQQXVWKRVSEVWMPNEKYEQCCKRQWNJRKQVSCPNKRXTOVSWPNEKKRVSFVLHTCCRNLTCPNKRTCRNQEMVEVWMWQYSAQLQBVKNBKRNBQTBJQWBQNKRQWFRTCKQBLQNBKRIRVKMNCHEQTCSWQRTOQLQWFISHVBLQVEVWMXVWNTLPQTAVEVWMRQTELQXVWLIYVBQCTWQOQZQMLICVSENCTECVCVWQOQZQMYSKKRVSVEVWMRVPEVBJWQKSWBVEVWMMQENOQWLICVSEVRCTOQLQXVWKRILQWFNQCTCTAQXVWNBMQTKRKRQWQNCBVWQLQLYWTBFQVXKRQQNBKRQJWTOQPRVCRTEEJNOQKRQQKRTBACNTLPQTWIPNKRLIJWVTBNBJTEEKRQBNJRKLTAQNLIYQMKVCPNLNPTKQWLIFVSFRPNKRLIKQTWCLNBQQIQNCFVBCSLQMYQFTSCQVXJWNQXNKPTZQKRVEMYQFTSCQVXTEELNBQQBQLNQCMQHTWKXWVLLQTEEIQPVWAQWCVXNBNGSNKIXVWKRQEVWMRTKRRQTWMKRQOVNFQVXLIPQQHNBJKRQEVWMRTKRRQTWMLICSHHENFTKNVBKRQEVWMPNEEWQFQNOQLIHWTIQWEQKTEELNBQQBQLNQCYQTCRTLQMTBMCVWQOQZQMEQKKRQLWQKSWBTBMYQTCRTLQMCSMMQBEIVEVWMLIJVMNBKRQQMVNHSKLIKWSCKCTOQLQXWVLTEEKRQLKRTKHQWCQFSKQLQTBMMQENOQWLQEQCKRQKQTWLICVSEENAQTENVBWQBMNBJNKNBHNQFQCPRNEQKRQWQNCBVBQKVMQENOQWVEVWMLIJVMNXNRTOQMVBQKRNCNXKRQWQYQNBNGSNKINBLIRTBMCNXNRTOQWQPTWMQMQONESBKVRNLKRTKPTCTKHQTFQPNKRLQYIQTNRTOQMQENOQWQMRNLKRTKPNKRVSKFTSCQNCLNBQQBQLIFEQKKRQQBQLIHQWCQFSKQLICVSETBMKTAQNKIQTEQKRNLKWQTMMVPBLIENXQSHVBKRQQTWKRTBMETILNBQRVBVSWNBKRQMSCKCQETRTWNCQVEVWMNBKRNBQTBJQWENXKSHKRICQEXYQFTSCQVXKRQWTJQVXLNBQQBQLNQCTBMTPTAQXVWLQKVKRQDSMJLQBKKRTKKRVSRTCKFVLLTBMQMCVCRTEEKRQFVBJWQJTKNVBVXKRQHQVHEQFVLHTCCKRQQTYVSKXVWKRQNWCTAQCKRQWQXVWQWQKSWBKRVSVBRNJRKRQEVWMCRTEEDSMJQKRQHQVHEQDSMJQLQVEVWMTFFVWMNBJKVLIWNJRKQVSCBQCCTBMTFFVWMNBJKVLNBQNBKQJWNKIKRTKNCNBLQVREQKKRQPNFAQMBQCCVXKRQPNFAQMFVLQKVTBQBMYSKQCKTYENCRKRQDSCKXVWKRQWNJRKQVSCJVMKWNQKRKRQRQTWKCTBMWQNBCLIMQXQBFQNCVXJVMPRNFRCTOQKRKRQSHWNJRKNBRQTWKJVMDSMJQKRKRQWNJRKQVSCTBMJVMNCTBJWIPNKRKRQPNFAQMQOQWIMTINXRQKSWBBVKRQPNEEPRQKRNCCPVWMRQRTKRYQBKRNCYVPTBMLTMQNKWQTMIRQRTKRTECVHWQHTWQMXVWRNLKRQNBCKWSLQBKCVXMQTKRRQVWMTNBQKRRNCTWWVPCTJTNBCKKRQHQWCQFSKVWCYQRVEMRQKWTOTNEQKRPNKRNBNGSNKITBMRTKRFVBFQNOQMLNCFRNQXTBMYWVSJRKXVWKRXTECQRVVMRQLTMQTHNKTBMMNJJQMNKTBMNCXTEEQBNBKVKRQMNKFRPRNFRRQLTMQRNCLNCFRNQXCRTEEWQKSWBSHVBRNCVPBRQTMTBMRNCONVEQBKMQTENBJCRTEEFVLQMVPBSHVBRNCVPBHTKQNPNEEHWTNCQKRQEVWMTFFVWMNBJKVRNCWNJRKQVSCBQCCTBMPNEECNBJHWTNCQKVKRQBTLQVXKRQEVWMLVCKRNJRVEVWMVSWEVWMRVPQZFQEEQBKNCKRIBTLQNBTEEKRQQTWKRSPRVRTCKCQKKRIJEVWITYVOQKRQRQTOQBCVSKVXKRQLVSKRVXYTYQCTBMCSFAENBJCRTCKKRVSVWMTNBQMCKWQBJKRYQFTSCQVXKRNBQQBQLNQCKRTKKRVSLNJRKQCKCKNEEKRQQBQLITBMKRQTOQBJQWPRQBNFVBCNMQWKRIRQTOQBCKRQPVWAVXKRIXNBJQWCKRQLVVBTBMKRQCKTWCPRNFRKRVSRTCKVWMTNBQMPRTKNCLTBKRTKKRVSTWKLNBMXSEVXRNLTBMKRQCVBVXLTBKRTKKRVSONCNKQCKRNLXVWKRVSRTCKLTMQRNLTENKKEQEVPQWKRTBKRQTBJQECTBMRTCKFWVPBQMRNLPNKRJEVWITBMRVBVSWKRVSLTMQCKRNLKVRTOQMVLNBNVBVOQWKRQPVWACVXKRIRTBMCKRVSRTCKHSKTEEKRNBJCSBMQWRNCXQQKTEECRQQHTBMVZQBIQTTBMKRQYQTCKCVXKRQXNQEMKRQXVPEVXKRQTNWTBMKRQXNCRVXKRQCQTTBMPRTKCVQOQWHTCCQKRKRWVSJRKRQHTKRCVXKRQCQTCVEVWMVSWEVWMRVPQZFQEEQBKNCKRIBTLQNBTEEKRQQTWKRSNPNEEHWTNCQKRQQVEVWMPNKRLIPRVEQRQTWKNPNEECRQPXVWKRTEEKRILTWOQEEVSCPVWACNPNEEYQJETMTBMWQDVNFQNBKRQQNPNEECNBJHWTNCQKVKRIBTLQVKRVSLVCKRNJRPRQBLNBQQBQLNQCTWQKSWBQMYTFAKRQICRTEEXTEETBMHQWNCRTKKRIHWQCQBFQXVWKRVSRTCKLTNBKTNBQMLIWNJRKTBMLIFTSCQKRVSCTKQCKNBKRQKRWVBQDSMJNBJWNJRKKRVSRTCKWQYSAQMKRQRQTKRQBKRVSRTCKMQCKWVIQMKRQPNFAQMKRVSRTCKHSKVSKKRQNWBTLQXVWQOQWTBMQOQWVKRVSQBQLIMQCKWSFKNVBCTWQFVLQKVTHQWHQKSTEQBMTBMKRVSRTCKMQCKWVIQMFNKNQCKRQNWLQLVWNTENCHQWNCRQMPNKRKRQLYSKKRQEVWMCRTEEQBMSWQXVWQOQWRQRTKRHWQHTWQMRNCKRWVBQXVWDSMJLQBKTBMRQCRTEEDSMJQKRQPVWEMNBWNJRKQVSCBQCCRQCRTEELNBNCKQWDSMJLQBKKVKRQHQVHEQNBSHWNJRKBQCCKRQEVWMTECVPNEEYQTWQXSJQXVWKRQVHHWQCCQMTWQXSJQNBKNLQCVXKWVSYEQTBMKRQIKRTKABVPKRIBTLQPNEEHSKKRQNWKWSCKNBKRQQXVWKRVSEVWMRTCKBVKXVWCTAQBKRQLKRTKCQQAKRQQCNBJHWTNCQCKVKRQEVWMPRNFRMPQEEQKRNBUNVBMQFETWQTLVBJKRQHQVHEQRNCMVNBJCPRQBRQLTAQKRNBGSNCNKNVBXVWYEVVMRQWQLQLYQWQKRKRQLRQXVWJQKKQKRBVKKRQFWIVXKRQRSLYEQRTOQLQWFISHVBLQVEVWMFVBCNMQWLIKWVSYEQPRNFRNCSXXQWVXKRQLKRTKRTKQLQKRVSKRTKENXKQCKLQSHXWVLKRQJTKQCVXMQTKRKRTKNLTICRQPXVWKRTEEKRIHWTNCQNBKRQJTKQCVXKRQMTSJRKQWVXUNVBNPNEEWQDVNFQNBKRICTEOTKNVBKRQRQTKRQBTWQCSBAMVPBNBKRQHNKKRTKKRQILTMQNBKRQBQKPRNFRKRQIRNMNCKRQNWVPBXVVKKTAQBKRQEVWMNCABVPBYIKRQDSMJLQBKPRNFRRQQZQFSKQKRKRQPNFAQMNCCBTWQMNBKRQPVWAVXRNCVPBRTBMCRNJJTNVBCQETRKRQPNFAQMCRTEEYQKSWBQMNBKVRQEETBMTEEKRQBTKNVBCKRTKXVWJQKJVMXVWKRQBQQMICRTEEBVKTEPTIYQXVWJVKKQBKRQQZHQFKTKNVBVXKRQHVVWCRTEEBVKHQWNCRXVWQOQWTWNCQVEVWMEQKBVKLTBHWQOTNEEQKKRQRQTKRQBYQDSMJQMNBKRICNJRKHSKKRQLNBXQTWVEVWMKRTKKRQBTKNVBCLTIABVPKRQLCQEOQCKVYQYSKLQBCQETRPRICKTBMQCKKRVSTXTWVXXVEVWMPRIRNMQCKKRVSKRICQEXNBKNLQCVXKWVSYEQKRQPNFAQMNBRNCHWNMQMVKRHQWCQFSKQKRQHVVWEQKKRQLYQKTAQBNBKRQMQONFQCKRTKKRQIRTOQNLTJNBQMXVWKRQPNFAQMYVTCKQKRVXRNCRQTWKTCMQCNWQTBMYEQCCQKRKRQFVOQKVSCPRVLKRQEVWMTYRVWWQKRKRQPNFAQMKRWVSJRKRQHWNMQVXRNCFVSBKQBTBFQPNEEBVKCQQATXKQWJVMJVMNCBVKNBTEERNCKRVSJRKCRNCPTICTWQTEPTICJWNQOVSCKRIDSMJLQBKCTWQXTWTYVOQVSKVXRNCCNJRKTCXVWTEERNCQBQLNQCRQHSXXQKRTKKRQLRQRTKRCTNMNBRNCRQTWKNCRTEEBVKYQLVOQMXVWNCRTEEBQOQWYQNBTMOQWCNKIRNCLVSKRNCXSEEVXFSWCNBJTBMMQFQNKTBMXWTSMSBMQWRNCKVBJSQNCLNCFRNQXTBMOTBNKIRQCNKKQKRNBKRQESWANBJHETFQCVXKRQONEETJQCNBKRQCQFWQKHETFQCMVKRRQLSWMQWKRQNBBVFQBKRNCQIQCTWQHWNONEICQKTJTNBCKKRQHVVWRQENQKRNBPTNKCQFWQKEITCTENVBNBRNCMQBRQENQKRNBPTNKKVFTKFRKRQHVVWRQMVKRFTKFRKRQHVVWPRQBRQMWTPQKRRNLNBKVRNCBQKRQFWVSFRQKRTBMRSLYEQKRRNLCQEXKRTKKRQHVVWLTIXTEEYIRNCCKWVBJVBQCRQRTKRCTNMNBRNCRQTWKJVMRTKRXVWJVKKQBRQRNMQKRRNCXTFQRQPNEEBQOQWCQQNKTWNCQVEVWMVJVMENXKSHKRNBQRTBMXVWJQKBVKKRQRSLYEQPRQWQXVWQMVKRKRQPNFAQMFVBKQLBJVMRQRTKRCTNMNBRNCRQTWKKRVSPNEKBVKWQGSNWQNKKRVSRTCKCQQBNKXVWKRVSYQRVEMQCKLNCFRNQXTBMCHNKQKVWQGSNKQNKPNKRKRIRTBMKRQHVVWFVLLNKKQKRRNLCQEXSBKVKRQQKRVSTWKKRQRQEHQWVXKRQXTKRQWEQCCYWQTAKRVSKRQTWLVXKRQPNFAQMTBMKRQQONELTBCQQAVSKRNCPNFAQMBQCCKNEEKRVSXNBMBVBQKRQEVWMNCANBJXVWQOQWTBMQOQWKRQRQTKRQBTWQHQWNCRQMVSKVXRNCETBMEVWMKRVSRTCKRQTWMKRQMQCNWQVXKRQRSLYEQKRVSPNEKHWQHTWQKRQNWRQTWKKRVSPNEKFTSCQKRNBQQTWKVRQTWKVDSMJQKRQXTKRQWEQCCTBMKRQVHHWQCCQMKRTKKRQLTBVXKRQQTWKRLTIBVLVWQVHHWQCC"
      ]
    },
    {
      "cell_type": "markdown",
      "metadata": {
        "id": "6yEsvnARpFVm"
      },
      "source": [
        "Charlie trebuie de asemenea să decripteze acest mesaj. Unii colegi i-au spus că este criptat folosind cifrul substituției (engl. substitution cipher), și din nou textele în clar constau doar în litere ale alfabetului englez de la **A** la **Z** (toate majusculă, fără punctuație). Încercați să-l ajutați pe Charlie să decripteze acest mesaj.\n",
        "\n",
        "**Hint:** Folosiți mecanismul analizei bazate pe frecvența literelor, care a fost discutată la curs. Vedeți că frecvența fiecărei litere nu se mapează precis. Cu alte cuvinte, cele mai frecvente două litere se potrivesc cu tabelul dat la curs, dar altele sunt amestecate. Cu toate acestea, Charlie știe că cele mai frecvente bi-grame sunt următoarele (de la cel mai frecvent la cel mai puțin frecvent):\n",
        "\n",
        "**TH**, **HE**, **IN**, **OR**, **HA**, **ET**, **AN**, **EA**, **IS**, **OU**, **HI**, **ER**, **ST**, **RE**, **ND**\n",
        "\n",
        "Folosind această informație, puteți spune despre ce este vorba în textul cifrat?\n",
        "\n",
        "> **Hint**: Puteți folosi **sort_dictionary** care deja este definit în scheletul laboratorului."
      ]
    },
    {
      "cell_type": "code",
      "execution_count": null,
      "metadata": {
        "id": "kgrsDxYLpCGQ"
      },
      "outputs": [],
      "source": [
        "import operator\n",
        "from typing import Dict, List, Tuple\n",
        "\n",
        "# fmt: off\n",
        "# This is the list of bigrams, from most frequent to less frequent\n",
        "bigrams = [\"TH\", \"HE\", 'IN', 'OR', 'HA', 'ET', 'AN',\n",
        "           'EA', 'IS', 'OU', 'HI', 'ER', 'ST', 'RE', 'ND']\n",
        "\n",
        "# This is the list of monograms, from most frequent to less frequent\n",
        "monograms = ['E', 'T', 'A', 'O', 'I', 'N', 'S', 'R', 'H', 'D', 'L', 'U', 'C',\n",
        "             'M', 'F', 'Y', 'W', 'G', 'P', 'B', 'V', 'K', 'X', 'Q', 'J', 'Z']\n",
        "\n",
        "# fmt: on\n",
        "# This is the dictionary containing the substitution table\n",
        "# (e.g. subst_table['A'] = 'B')\n",
        "# TODO Fill it in the create_subst_table function\n",
        "subst_table = {}\n",
        "\n",
        "# These are the dictionaries containing the frequencies of the mono/bigrams\n",
        "# in the text\n",
        "# TODO Fill them in the analyze function\n",
        "freq_table_bi = {}\n",
        "freq_table_mono = {}\n",
        "\n",
        "\n",
        "def sort_dictionary(d: Dict[str, int]) -> List[Tuple[str, int]]:\n",
        "    \"\"\"Sorts a dictionary d by the value. Returns a list of tuples sorted\n",
        "    by the second element.\"\"\"\n",
        "    sorted_dict = list(reversed(sorted(d.items(), key=operator.itemgetter(1))))\n",
        "    return sorted_dict\n",
        "\n",
        "\n",
        "def adjust() -> None:\n",
        "    \"\"\"This is magic stuff used in main.\"\"\"\n",
        "    subst_table[\"Y\"] = \"B\"\n",
        "    subst_table[\"E\"] = \"L\"\n",
        "    subst_table[\"L\"] = \"M\"\n",
        "    subst_table[\"P\"] = \"W\"\n",
        "    subst_table[\"F\"] = \"C\"\n",
        "    subst_table[\"X\"] = \"F\"\n",
        "    subst_table[\"J\"] = \"G\"\n",
        "    subst_table[\"I\"] = \"Y\""
      ]
    },
    {
      "cell_type": "code",
      "execution_count": null,
      "metadata": {
        "id": "gqQ26nwfqJrN"
      },
      "outputs": [],
      "source": [
        "def analyze(text: str) -> None:\n",
        "    \"\"\"Computes the frequencies of the monograms and bigrams in the text.\"\"\"\n",
        "\n",
        "    # TODO 1.1 Fill in the `freq_table_mono` dictionary\n",
        "\n",
        "    # TODO 1.2 Fill in the `freq_table_bi` dictionary\n"
      ]
    },
    {
      "cell_type": "code",
      "execution_count": null,
      "metadata": {
        "id": "k8P81N4EqMz6"
      },
      "outputs": [],
      "source": [
        "def create_subst_table() -> None:\n",
        "    \"\"\"Creates a substitution table using the frequencies of the bigrams.\"\"\"\n",
        "\n",
        "    # TODO 2.1 Sort the bigrams frequency table `freq_table_bi` by the frequency\n",
        "\n",
        "    # TODO 2.2 Fill in the substitution table `subst_table` by associating the\n",
        "    # sorted frequency dictionary with the given bigrams\n"
      ]
    },
    {
      "cell_type": "code",
      "execution_count": null,
      "metadata": {
        "id": "fUZYQkUxqOdu"
      },
      "outputs": [],
      "source": [
        "def complete_subst_table() -> None:\n",
        "    \"\"\"Fills in the letters missing from the substitution table using the\n",
        "    frequencies of the monograms.\"\"\"\n",
        "\n",
        "    # TODO 3.1 Sort the monograms frequency table `freq_table_mono` by\n",
        "    # the frequency\n",
        "\n",
        "    # TODO 3.2 Fill in the missing letters from the substitution table by\n",
        "    # associating the sorted frequency dictionary with the given monograms\n"
      ]
    },
    {
      "cell_type": "code",
      "execution_count": null,
      "metadata": {
        "id": "7_ODho_dqRkW"
      },
      "outputs": [],
      "source": [
        "def decrypt_text(text: str) -> None:\n",
        "    plain_text = \"\"\n",
        "\n",
        "    # TODO 4 Decrypt and print the text using the\n",
        "    # substitution table `subst_table`\n",
        "\n",
        "    print(plain_text)"
      ]
    },
    {
      "cell_type": "code",
      "execution_count": null,
      "metadata": {
        "id": "jT-pDytaqB34"
      },
      "outputs": [],
      "source": [
        "with open(\"msg_ex2.txt\", mode=\"r\", encoding=\"utf-8\") as myfile:\n",
        "    text = myfile.read()\n",
        "\n",
        "analyze(text)\n",
        "create_subst_table()\n",
        "complete_subst_table()\n",
        "adjust()\n",
        "decrypt_text(text)"
      ]
    },
    {
      "cell_type": "markdown",
      "metadata": {
        "id": "13S1kGPTqiTu"
      },
      "source": [
        "## Exercițiul 3 (4p)"
      ]
    },
    {
      "cell_type": "markdown",
      "metadata": {
        "id": "_VgMc4WPqlKD"
      },
      "source": [
        "Charlie reușește să intercepteze o ultimă comunicație care se pare a fi cea mai importantă, deci este decisiv ca el să o decripteze. Cu toate acestea, de data aceasta Alice a folosit cifrul Vigenere, cu o cheie despre care Charlie știe ca are **7** caractere."
      ]
    },
    {
      "cell_type": "code",
      "execution_count": null,
      "metadata": {
        "id": "xhVJ6QRjquvy"
      },
      "outputs": [],
      "source": [
        "!wget https://ocw.cs.pub.ro/courses/_media/ic/res/msg_ex3.txt -O msg_ex3.txt"
      ]
    },
    {
      "cell_type": "markdown",
      "metadata": {
        "id": "ccbcmGdKquYI"
      },
      "source": [
        "Ciphertextul este în fișierul atașat. Încercați metoda multiplicării probabilitătilor așa cum a fost explicat la curs și vedeți dacă puteți decripta ciphertextul. Puteți găsi mai multe detalii despre această metodă [aici](https://pages.mtu.edu/~shene/NSF-4/Tutorial/VIG/Vig-Recover.html).\n",
        "\n",
        "Acestea sunt frecvențele cunoscute ale textului în clar:"
      ]
    },
    {
      "cell_type": "code",
      "execution_count": null,
      "metadata": {
        "id": "PXZgCY5LCt8H"
      },
      "outputs": [],
      "source": [
        "FREQS = {\n",
        "    \"A\": 0.07048643054277828,\n",
        "    \"C\": 0.01577161913523459,\n",
        "    \"B\": 0.012074517019319227,\n",
        "    \"E\": 0.13185372585096597,\n",
        "    \"D\": 0.043393514259429625,\n",
        "    \"G\": 0.01952621895124195,\n",
        "    \"F\": 0.023867295308187673,\n",
        "    \"I\": 0.06153403863845446,\n",
        "    \"H\": 0.08655128794848206,\n",
        "    \"K\": 0.007566697332106716,\n",
        "    \"J\": 0.0017594296228150873,\n",
        "    \"M\": 0.029657313707451703,\n",
        "    \"L\": 0.04609015639374425,\n",
        "    \"O\": 0.07679967801287949,\n",
        "    \"N\": 0.060217341306347746,\n",
        "    \"Q\": 0.0006382244710211592,\n",
        "    \"P\": 0.014357175712971482,\n",
        "    \"S\": 0.05892939282428703,\n",
        "    \"R\": 0.05765294388224471,\n",
        "    \"U\": 0.02749540018399264,\n",
        "    \"T\": 0.09984475620975161,\n",
        "    \"W\": 0.01892824287028519,\n",
        "    \"V\": 0.011148804047838086,\n",
        "    \"Y\": 0.023045078196872126,\n",
        "    \"X\": 0.0005289788408463661,\n",
        "    \"Z\": 0.00028173873045078196,\n",
        "}"
      ]
    },
    {
      "cell_type": "code",
      "execution_count": null,
      "metadata": {
        "id": "8l8dfO8PqW3x"
      },
      "outputs": [],
      "source": [
        "def compute_distribution(frequencies: Dict[str, float]) -> float:\n",
        "    \"\"\"Computes the chi-distribution based on a dictionary of frequencies\n",
        "    relative to the FREQS frequencies dictionary.\"\"\"\n",
        "    chi_2 = 0.0\n",
        "    for l in FREQS:\n",
        "        chi_2 += (frequencies[l] - FREQS[l]) ** 2 / FREQS[l]\n",
        "    return chi_2\n",
        "\n",
        "\n",
        "def split_in_cosets(text: str, keylen: int) -> List[List[str]]:\n",
        "    \"\"\"Splits a text in keylen cosets.\"\"\"\n",
        "    cosets = []\n",
        "    for i in range(keylen):\n",
        "        coset = []\n",
        "        for j in range(i, len(text), keylen):\n",
        "            coset.append(text[j])\n",
        "        cosets.append(coset)\n",
        "    return cosets\n",
        "\n",
        "\n",
        "def merge_cosets(cosets: List[List[str]], coset_size: int) -> str:\n",
        "    \"\"\"Merges the cosets to obtain the original text.\"\"\"\n",
        "    text = \"\"\n",
        "    for j in range(coset_size):\n",
        "        for i in range(len(cosets)):\n",
        "            text += cosets[i][j]\n",
        "    return text"
      ]
    },
    {
      "cell_type": "code",
      "execution_count": null,
      "metadata": {
        "id": "hqMILcz1C7Mk"
      },
      "outputs": [],
      "source": [
        "def get_freq_dict(coset: List[str], shift: int) -> Dict[str, float]:\n",
        "    \"\"\"Computes the frequency table for a coset shifted to left with a\n",
        "    given shift.\"\"\"\n",
        "    freq = {}\n",
        "\n",
        "    # TODO 1 compute the frequency of the letters in the coset shifted to left\n",
        "    # by the shift parameter\n",
        "\n",
        "    return freq"
      ]
    },
    {
      "cell_type": "code",
      "execution_count": null,
      "metadata": {
        "id": "jXQcIygcC-CV"
      },
      "outputs": [],
      "source": [
        "def find_correct_shift(coset: List[str]) -> int:\n",
        "    \"\"\"Returns the shift computed for a coset.\"\"\"\n",
        "    shift = 0\n",
        "\n",
        "    # TODO 2 compute the shift which leads to the lowest chi-distribution\n",
        "\n",
        "    return shift"
      ]
    },
    {
      "cell_type": "code",
      "execution_count": null,
      "metadata": {
        "id": "igNHCYk5C_mD"
      },
      "outputs": [],
      "source": [
        "with open(\"msg_ex3.txt\", mode=\"r\", encoding=\"utf-8\") as myfile:\n",
        "    text = myfile.read().strip()\n",
        "\n",
        "dec_text = \"\"\n",
        "\n",
        "# TODO 3 decrypt the text\n",
        "\n",
        "print(dec_text)"
      ]
    },
    {
      "cell_type": "markdown",
      "metadata": {
        "id": "YMLaThJPr0_q"
      },
      "source": [
        "## Bonus: Exercițiul 4 (2p)"
      ]
    },
    {
      "cell_type": "markdown",
      "metadata": {
        "id": "tKh5dCFGr3v0"
      },
      "source": [
        " La curs am spus că One Time Pad este maleabil (i.e. putem schimba cu ușurință criptarea unui text în clar prin simpla schimbare a ciphertextului). De asemenea, am discutat cum CRC este o idee proastă de design pentru protocolul WEP, din cauza proprietății de linearitate.\n",
        "\n",
        "Vi se dă următorul ciphertext, în hexazecimal:\n",
        "``` text\n",
        "021e0e061d1694c9\n",
        "```\n",
        "\n",
        "care corespunde concatenării mesajelor “floare” și CRC-16 asociat mesajului (în hexa este “8E31”) obținut folosind acest website: http://www.lammertbies.nl/comm/info/crc-calculation.html\n",
        "\n",
        "Dacă trebuie să modificăm ciphertextul astfel încât o decriptare corectă să ducă la “albina” în loc de “floare”, iar calcularea CRC-16 să rămână corectă, care este modificarea pe care trebuie să o realizăm?\n",
        "\n",
        "Afișați noul ciphertext după modificările necesare, și arătați că în mod corect duce la plaintextul “albina” și un CRC-16 calculat corect.\n",
        "\n",
        "Poate găsiți acest început de script util:"
      ]
    },
    {
      "cell_type": "code",
      "execution_count": null,
      "metadata": {
        "id": "Cq-YnXGlr3Qs"
      },
      "outputs": [],
      "source": [
        "# Plaintexts\n",
        "s1 = \"floare\"\n",
        "s2 = \"albina\"\n",
        "G = \"\"  # To find\n",
        "\n",
        "# Obtain crc of s1\n",
        "# See this site:\n",
        "# http://www.lammertbies.nl/comm/info/crc-calculation.html\n",
        "x1 = str_2_hex(s1)\n",
        "x2 = str_2_hex(s2)\n",
        "print(\"x1: \" + x1)\n",
        "crc1 = \"8E31\"  # CRC-16 of x1\n",
        "\n",
        "# Compute delta (xor) of x1 and x2:\n",
        "xd = hexxor(x1, x2)\n",
        "print(\"xd: \" + xd)\n",
        "\n",
        "# TODO:\n"
      ]
    },
    {
      "cell_type": "markdown",
      "metadata": {
        "id": "Wymq6KKUofmt"
      },
      "source": [
        "Folosiți proprietatea pentru CRC-16 cum că CRC(m XOR d) = CRC(m) XOR CRC(d).\n",
        "\n",
        "Dacă d = 'floare' XOR 'albina', iar C = [C1 | C2] = [m XOR G1 | CRC(m) XOR G2], atunci C1' = C1 XOR d."
      ]
    }
  ],
  "metadata": {
    "colab": {
      "private_outputs": true,
      "provenance": [],
      "toc_visible": true
    },
    "kernelspec": {
      "display_name": "Python 3",
      "name": "python3"
    },
    "language_info": {
      "codemirror_mode": {
        "name": "ipython",
        "version": 3
      },
      "file_extension": ".py",
      "mimetype": "text/x-python",
      "name": "python",
      "nbconvert_exporter": "python",
      "pygments_lexer": "ipython3",
      "version": "3.11.11"
    }
  },
  "nbformat": 4,
  "nbformat_minor": 0
}